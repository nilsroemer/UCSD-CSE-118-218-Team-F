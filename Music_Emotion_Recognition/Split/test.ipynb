{
 "cells": [
  {
   "cell_type": "code",
   "execution_count": 1,
   "id": "initial_id",
   "metadata": {
    "collapsed": true,
    "ExecuteTime": {
     "end_time": "2023-11-28T22:31:00.864001Z",
     "start_time": "2023-11-28T22:31:00.555561Z"
    }
   },
   "outputs": [],
   "source": [
    "import numpy as np\n",
    "import pandas as pd\n",
    "import os"
   ]
  },
  {
   "cell_type": "code",
   "execution_count": 2,
   "outputs": [],
   "source": [
    "y_true = np.load('test_ground_truth.npy')"
   ],
   "metadata": {
    "collapsed": false,
    "ExecuteTime": {
     "end_time": "2023-11-28T22:31:10.275785Z",
     "start_time": "2023-11-28T22:31:10.273706Z"
    }
   },
   "id": "8eb401a741c2fe32"
  },
  {
   "cell_type": "code",
   "execution_count": 16,
   "outputs": [],
   "source": [
    "df_train = pd.read_csv('jamendo_moodtheme-train.tsv')\n",
    "df_test = pd.read_csv('jamendo_moodtheme-test.tsv')\n",
    "df_valid = pd.read_csv('jamendo_moodtheme-validation.tsv')"
   ],
   "metadata": {
    "collapsed": false,
    "ExecuteTime": {
     "end_time": "2023-11-28T22:37:16.878372Z",
     "start_time": "2023-11-28T22:37:16.864557Z"
    }
   },
   "id": "d84b0bcef7b50b24"
  },
  {
   "cell_type": "code",
   "execution_count": 60,
   "outputs": [],
   "source": [
    "df_total = pd.concat([df_train, df_test, df_valid])"
   ],
   "metadata": {
    "collapsed": false,
    "ExecuteTime": {
     "end_time": "2023-11-28T04:29:02.858126Z",
     "start_time": "2023-11-28T04:29:02.853429Z"
    }
   },
   "id": "8e892f540b112dbd"
  },
  {
   "cell_type": "code",
   "execution_count": 61,
   "outputs": [],
   "source": [
    "df_total = df_total['TRACK_ID\\tPATH\\tTAGS'].str.split('\\t', expand=True)\n",
    "columns_to_merge = df_total.iloc[:, 2:10]\n",
    "columns_to_merge = columns_to_merge.astype(str)\n",
    "df_total['merged_column'] = columns_to_merge.apply(lambda x: ' '.join(x), axis=1)\n",
    "df_total['merged_column'] = df_total['merged_column'].str.replace('None', '')\n",
    "df_total['merged_column'] = df_total['merged_column'].str.replace(' ', '')\n",
    "df_total = df_total.drop(columns=[2, 3, 4, 5, 6, 7, 8, 9])\n",
    "df_total.columns = ['TRACK_ID', 'PATH', 'merged_column']"
   ],
   "metadata": {
    "collapsed": false,
    "ExecuteTime": {
     "end_time": "2023-11-28T04:29:03.086562Z",
     "start_time": "2023-11-28T04:29:03.016842Z"
    }
   },
   "id": "8bc36a71949c3142"
  },
  {
   "cell_type": "code",
   "execution_count": 62,
   "outputs": [],
   "source": [
    "contains_string = df_total['PATH'].astype(str).str.contains('729300')"
   ],
   "metadata": {
    "collapsed": false,
    "ExecuteTime": {
     "end_time": "2023-11-28T04:29:03.870429Z",
     "start_time": "2023-11-28T04:29:03.863781Z"
    }
   },
   "id": "6d6870ba019064c7"
  },
  {
   "cell_type": "code",
   "execution_count": 63,
   "outputs": [
    {
     "data": {
      "text/plain": "1762    mood/theme---film\nName: merged_column, dtype: object"
     },
     "execution_count": 63,
     "metadata": {},
     "output_type": "execute_result"
    }
   ],
   "source": [
    "df_total.loc[contains_string, 'merged_column']"
   ],
   "metadata": {
    "collapsed": false,
    "ExecuteTime": {
     "end_time": "2023-11-28T04:29:05.129504Z",
     "start_time": "2023-11-28T04:29:05.125943Z"
    }
   },
   "id": "b5e8a47369d49ee6"
  },
  {
   "cell_type": "code",
   "execution_count": 64,
   "outputs": [],
   "source": [
    "path = 'mtg-jamendo-dataset/path/to/download/00/'\n",
    "lable_list = []\n",
    "for file in os.listdir(path):\n",
    "    if file.endswith('.mp3'):\n",
    "        lable_list.append(file.split('.')[0])"
   ],
   "metadata": {
    "collapsed": false,
    "ExecuteTime": {
     "end_time": "2023-11-28T04:29:05.887210Z",
     "start_time": "2023-11-28T04:29:05.884333Z"
    }
   },
   "id": "fe94c26cbf311b3c"
  },
  {
   "cell_type": "code",
   "execution_count": 69,
   "outputs": [],
   "source": [
    "genre_list = []\n",
    "for lable in lable_list:\n",
    "    contains_string = df_total['PATH'].astype(str).str.contains(lable)\n",
    "    genre_list.append(df_total.loc[contains_string, 'merged_column'].tolist())"
   ],
   "metadata": {
    "collapsed": false,
    "ExecuteTime": {
     "end_time": "2023-11-28T04:29:39.334471Z",
     "start_time": "2023-11-28T04:29:38.798717Z"
    }
   },
   "id": "c1f15d240b907933"
  },
  {
   "cell_type": "code",
   "execution_count": 71,
   "outputs": [],
   "source": [
    "df_genre = pd.DataFrame({\n",
    "    'lable': lable_list,\n",
    "    'genre': genre_list\n",
    "})"
   ],
   "metadata": {
    "collapsed": false,
    "ExecuteTime": {
     "end_time": "2023-11-28T04:30:03.763371Z",
     "start_time": "2023-11-28T04:30:03.759051Z"
    }
   },
   "id": "a5b2f920418e110"
  },
  {
   "cell_type": "code",
   "execution_count": 77,
   "outputs": [],
   "source": [
    "df_genre.sort_values(by=['lable'], inplace=True, ascending=True)\n",
    "df_genre.reset_index(drop=True, inplace=True)\n"
   ],
   "metadata": {
    "collapsed": false,
    "ExecuteTime": {
     "end_time": "2023-11-28T04:32:08.188928Z",
     "start_time": "2023-11-28T04:32:08.183112Z"
    }
   },
   "id": "d79e1a80a1fba28c"
  },
  {
   "cell_type": "code",
   "execution_count": 78,
   "outputs": [
    {
     "data": {
      "text/plain": "       lable                                              genre\n0    1009600                            [mood/theme---romantic]\n1    1012000  [mood/theme---emotionalmood/theme---epicmood/t...\n2    1014400               [mood/theme---sadmood/theme---space]\n3    1028900                                 [mood/theme---sad]\n4    1032700               [mood/theme---funmood/theme---space]\n..       ...                                                ...\n197   950100                             [mood/theme---melodic]\n198    95400                                [mood/theme---dark]\n199   966300              [mood/theme---moviemood/theme---slow]\n200   970600     [mood/theme---meditativemood/theme---relaxing]\n201   985000          [mood/theme---melodicmood/theme---travel]\n\n[202 rows x 2 columns]",
      "text/html": "<div>\n<style scoped>\n    .dataframe tbody tr th:only-of-type {\n        vertical-align: middle;\n    }\n\n    .dataframe tbody tr th {\n        vertical-align: top;\n    }\n\n    .dataframe thead th {\n        text-align: right;\n    }\n</style>\n<table border=\"1\" class=\"dataframe\">\n  <thead>\n    <tr style=\"text-align: right;\">\n      <th></th>\n      <th>lable</th>\n      <th>genre</th>\n    </tr>\n  </thead>\n  <tbody>\n    <tr>\n      <th>0</th>\n      <td>1009600</td>\n      <td>[mood/theme---romantic]</td>\n    </tr>\n    <tr>\n      <th>1</th>\n      <td>1012000</td>\n      <td>[mood/theme---emotionalmood/theme---epicmood/t...</td>\n    </tr>\n    <tr>\n      <th>2</th>\n      <td>1014400</td>\n      <td>[mood/theme---sadmood/theme---space]</td>\n    </tr>\n    <tr>\n      <th>3</th>\n      <td>1028900</td>\n      <td>[mood/theme---sad]</td>\n    </tr>\n    <tr>\n      <th>4</th>\n      <td>1032700</td>\n      <td>[mood/theme---funmood/theme---space]</td>\n    </tr>\n    <tr>\n      <th>...</th>\n      <td>...</td>\n      <td>...</td>\n    </tr>\n    <tr>\n      <th>197</th>\n      <td>950100</td>\n      <td>[mood/theme---melodic]</td>\n    </tr>\n    <tr>\n      <th>198</th>\n      <td>95400</td>\n      <td>[mood/theme---dark]</td>\n    </tr>\n    <tr>\n      <th>199</th>\n      <td>966300</td>\n      <td>[mood/theme---moviemood/theme---slow]</td>\n    </tr>\n    <tr>\n      <th>200</th>\n      <td>970600</td>\n      <td>[mood/theme---meditativemood/theme---relaxing]</td>\n    </tr>\n    <tr>\n      <th>201</th>\n      <td>985000</td>\n      <td>[mood/theme---melodicmood/theme---travel]</td>\n    </tr>\n  </tbody>\n</table>\n<p>202 rows × 2 columns</p>\n</div>"
     },
     "execution_count": 78,
     "metadata": {},
     "output_type": "execute_result"
    }
   ],
   "source": [
    "df_genre"
   ],
   "metadata": {
    "collapsed": false,
    "ExecuteTime": {
     "end_time": "2023-11-28T04:32:12.290899Z",
     "start_time": "2023-11-28T04:32:12.283039Z"
    }
   },
   "id": "e2c3036c26d0e5e7"
  },
  {
   "cell_type": "code",
   "execution_count": 80,
   "outputs": [],
   "source": [
    "# 如果genre中包含mood/theme---calm，吧label假如calm列表\n",
    "calm_list = []\n",
    "for i in range(len(df_genre)):\n",
    "    if 'mood/theme---calm' in df_genre['genre'][i]:\n",
    "        calm_list.append(df_genre['lable'][i])"
   ],
   "metadata": {
    "collapsed": false,
    "ExecuteTime": {
     "end_time": "2023-11-28T04:33:47.123885Z",
     "start_time": "2023-11-28T04:33:47.117987Z"
    }
   },
   "id": "7fd0e4a32be8adda"
  },
  {
   "cell_type": "code",
   "execution_count": 81,
   "outputs": [
    {
     "data": {
      "text/plain": "['1374300', '86200']"
     },
     "execution_count": 81,
     "metadata": {},
     "output_type": "execute_result"
    }
   ],
   "source": [
    "calm_list"
   ],
   "metadata": {
    "collapsed": false,
    "ExecuteTime": {
     "end_time": "2023-11-28T04:33:48.828961Z",
     "start_time": "2023-11-28T04:33:48.823323Z"
    }
   },
   "id": "ac302d9bfa7278ce"
  },
  {
   "cell_type": "code",
   "execution_count": 82,
   "outputs": [],
   "source": [
    "# 如果genre中包含mood/theme---energetic，吧label假如energetic列表\n",
    "energetic_list = []\n",
    "for i in range(len(df_genre)):\n",
    "    if 'mood/theme---energetic' in df_genre['genre'][i]:\n",
    "        energetic_list.append(df_genre['lable'][i])"
   ],
   "metadata": {
    "collapsed": false,
    "ExecuteTime": {
     "end_time": "2023-11-28T04:33:58.470725Z",
     "start_time": "2023-11-28T04:33:58.462786Z"
    }
   },
   "id": "916f5902a4df67ba"
  },
  {
   "cell_type": "code",
   "execution_count": 83,
   "outputs": [
    {
     "data": {
      "text/plain": "['1158200', '1277800', '1294600', '1300000']"
     },
     "execution_count": 83,
     "metadata": {},
     "output_type": "execute_result"
    }
   ],
   "source": [
    "energetic_list"
   ],
   "metadata": {
    "collapsed": false,
    "ExecuteTime": {
     "end_time": "2023-11-28T04:33:59.613414Z",
     "start_time": "2023-11-28T04:33:59.604187Z"
    }
   },
   "id": "2cd31c1c15071b9f"
  },
  {
   "cell_type": "code",
   "execution_count": 84,
   "outputs": [],
   "source": [
    "# 如果genre中包含mood/theme---happy，吧label假如happy列表\n",
    "happy_list = []\n",
    "for i in range(len(df_genre)):\n",
    "    if 'mood/theme---happy' in df_genre['genre'][i]:\n",
    "        happy_list.append(df_genre['lable'][i])"
   ],
   "metadata": {
    "collapsed": false,
    "ExecuteTime": {
     "end_time": "2023-11-28T04:34:07.398550Z",
     "start_time": "2023-11-28T04:34:07.391832Z"
    }
   },
   "id": "e011dc6a78dc0f69"
  },
  {
   "cell_type": "code",
   "execution_count": 85,
   "outputs": [
    {
     "data": {
      "text/plain": "['1250200', '840600']"
     },
     "execution_count": 85,
     "metadata": {},
     "output_type": "execute_result"
    }
   ],
   "source": [
    "happy_list"
   ],
   "metadata": {
    "collapsed": false,
    "ExecuteTime": {
     "end_time": "2023-11-28T04:34:08.909878Z",
     "start_time": "2023-11-28T04:34:08.900224Z"
    }
   },
   "id": "5be2309f95ff1935"
  },
  {
   "cell_type": "code",
   "execution_count": 86,
   "outputs": [],
   "source": [
    "# 如果genre中包含mood/theme---sad，吧label假如sad列表\n",
    "sad_list = []\n",
    "for i in range(len(df_genre)):\n",
    "    if 'mood/theme---sad' in df_genre['genre'][i]:\n",
    "        sad_list.append(df_genre['lable'][i])"
   ],
   "metadata": {
    "collapsed": false,
    "ExecuteTime": {
     "end_time": "2023-11-28T04:34:13.845349Z",
     "start_time": "2023-11-28T04:34:13.835728Z"
    }
   },
   "id": "1481d97b02a4d31e"
  },
  {
   "cell_type": "code",
   "execution_count": 87,
   "outputs": [
    {
     "data": {
      "text/plain": "['1028900', '1096800', '1300500', '1313000', '1343400']"
     },
     "execution_count": 87,
     "metadata": {},
     "output_type": "execute_result"
    }
   ],
   "source": [
    "sad_list"
   ],
   "metadata": {
    "collapsed": false,
    "ExecuteTime": {
     "end_time": "2023-11-28T04:34:14.922265Z",
     "start_time": "2023-11-28T04:34:14.914756Z"
    }
   },
   "id": "e20c859bc4edec3d"
  },
  {
   "cell_type": "code",
   "execution_count": 88,
   "outputs": [],
   "source": [
    "# 如果genre中包含mood/theme---angry，吧label假如angry列表\n",
    "angry_list = []\n",
    "for i in range(len(df_genre)):\n",
    "    if 'mood/theme---angry' in df_genre['genre'][i]:\n",
    "        angry_list.append(df_genre['lable'][i])"
   ],
   "metadata": {
    "collapsed": false,
    "ExecuteTime": {
     "end_time": "2023-11-28T04:34:20.657286Z",
     "start_time": "2023-11-28T04:34:20.650650Z"
    }
   },
   "id": "510f9dfd383279de"
  },
  {
   "cell_type": "code",
   "execution_count": 89,
   "outputs": [
    {
     "data": {
      "text/plain": "[]"
     },
     "execution_count": 89,
     "metadata": {},
     "output_type": "execute_result"
    }
   ],
   "source": [
    "angry_list"
   ],
   "metadata": {
    "collapsed": false,
    "ExecuteTime": {
     "end_time": "2023-11-28T04:34:21.710843Z",
     "start_time": "2023-11-28T04:34:21.701019Z"
    }
   },
   "id": "a8d4938c6632050a"
  },
  {
   "cell_type": "code",
   "execution_count": 90,
   "outputs": [],
   "source": [
    "contains_string = df_total['PATH'].astype(str).str.contains('1250200')"
   ],
   "metadata": {
    "collapsed": false,
    "ExecuteTime": {
     "end_time": "2023-11-28T05:27:12.427570Z",
     "start_time": "2023-11-28T05:27:12.414272Z"
    }
   },
   "id": "6e191f54685cd65a"
  },
  {
   "cell_type": "code",
   "execution_count": 91,
   "outputs": [
    {
     "data": {
      "text/plain": "6572    mood/theme---happy\nName: merged_column, dtype: object"
     },
     "execution_count": 91,
     "metadata": {},
     "output_type": "execute_result"
    }
   ],
   "source": [
    "df_total.loc[contains_string, 'merged_column']"
   ],
   "metadata": {
    "collapsed": false,
    "ExecuteTime": {
     "end_time": "2023-11-28T05:27:16.149340Z",
     "start_time": "2023-11-28T05:27:16.133388Z"
    }
   },
   "id": "e1cc9d04a55dadd8"
  },
  {
   "cell_type": "code",
   "execution_count": 3,
   "outputs": [
    {
     "data": {
      "text/plain": "array([[0, 0, 0, ..., 0, 0, 0],\n       [0, 0, 0, ..., 0, 0, 0],\n       [0, 0, 0, ..., 0, 0, 0],\n       ...,\n       [0, 0, 0, ..., 0, 0, 0],\n       [0, 0, 0, ..., 0, 0, 0],\n       [0, 0, 0, ..., 0, 0, 0]])"
     },
     "execution_count": 3,
     "metadata": {},
     "output_type": "execute_result"
    }
   ],
   "source": [
    "y_true"
   ],
   "metadata": {
    "collapsed": false,
    "ExecuteTime": {
     "end_time": "2023-11-28T22:31:15.143472Z",
     "start_time": "2023-11-28T22:31:15.137957Z"
    }
   },
   "id": "f5e9e6ed899195cb"
  },
  {
   "cell_type": "code",
   "execution_count": 4,
   "outputs": [],
   "source": [
    "TAGS = [\n",
    "    'mood/theme---action',\n",
    "    'mood/theme---adventure',\n",
    "    'mood/theme---advertising',\n",
    "    'mood/theme---background',\n",
    "    'mood/theme---ballad',\n",
    "    'mood/theme---calm',\n",
    "    'mood/theme---children',\n",
    "    'mood/theme---christmas',\n",
    "    'mood/theme---commercial',\n",
    "    'mood/theme---cool',\n",
    "    'mood/theme---corporate',\n",
    "    'mood/theme---dark',\n",
    "    'mood/theme---deep',\n",
    "    'mood/theme---documentary',\n",
    "    'mood/theme---drama',\n",
    "    'mood/theme---dramatic',\n",
    "    'mood/theme---dream',\n",
    "    'mood/theme---emotional',\n",
    "    'mood/theme---energetic',\n",
    "    'mood/theme---epic',\n",
    "    'mood/theme---fast',\n",
    "    'mood/theme---film',\n",
    "    'mood/theme---fun',\n",
    "    'mood/theme---funny',\n",
    "    'mood/theme---game',\n",
    "    'mood/theme---groovy',\n",
    "    'mood/theme---happy',\n",
    "    'mood/theme---heavy',\n",
    "    'mood/theme---holiday',\n",
    "    'mood/theme---hopeful',\n",
    "    'mood/theme---inspiring',\n",
    "    'mood/theme---love',\n",
    "    'mood/theme---meditative',\n",
    "    'mood/theme---melancholic',\n",
    "    'mood/theme---melodic',\n",
    "    'mood/theme---motivational',\n",
    "    'mood/theme---movie',\n",
    "    'mood/theme---nature',\n",
    "    'mood/theme---party',\n",
    "    'mood/theme---positive',\n",
    "    'mood/theme---powerful',\n",
    "    'mood/theme---relaxing',\n",
    "    'mood/theme---retro',\n",
    "    'mood/theme---romantic',\n",
    "    'mood/theme---sad',\n",
    "    'mood/theme---sexy',\n",
    "    'mood/theme---slow',\n",
    "    'mood/theme---soft',\n",
    "    'mood/theme---soundscape',\n",
    "    'mood/theme---space',\n",
    "    'mood/theme---sport',\n",
    "    'mood/theme---summer',\n",
    "    'mood/theme---trailer',\n",
    "    'mood/theme---travel',\n",
    "    'mood/theme---upbeat',\n",
    "    'mood/theme---uplifting']"
   ],
   "metadata": {
    "collapsed": false,
    "ExecuteTime": {
     "end_time": "2023-11-28T22:31:52.912131Z",
     "start_time": "2023-11-28T22:31:52.888394Z"
    }
   },
   "id": "6e538fc2343a5ebc"
  },
  {
   "cell_type": "code",
   "execution_count": 5,
   "outputs": [
    {
     "data": {
      "text/plain": "56"
     },
     "execution_count": 5,
     "metadata": {},
     "output_type": "execute_result"
    }
   ],
   "source": [
    "len(TAGS)"
   ],
   "metadata": {
    "collapsed": false,
    "ExecuteTime": {
     "end_time": "2023-11-28T22:31:56.366718Z",
     "start_time": "2023-11-28T22:31:56.354693Z"
    }
   },
   "id": "b239d97c86c8fe37"
  },
  {
   "cell_type": "code",
   "execution_count": 6,
   "outputs": [],
   "source": [
    "path = '../../mtg-jamendo-dataset/path/to/download/00/'"
   ],
   "metadata": {
    "collapsed": false,
    "ExecuteTime": {
     "end_time": "2023-11-28T22:34:42.571838Z",
     "start_time": "2023-11-28T22:34:42.554568Z"
    }
   },
   "id": "3a5778b3839a9afe"
  },
  {
   "cell_type": "code",
   "execution_count": 7,
   "outputs": [],
   "source": [
    "label_list = []\n",
    "for file in os.listdir(path):\n",
    "    if file.endswith('.mp3'):\n",
    "        label_list.append(file.split('.')[0])"
   ],
   "metadata": {
    "collapsed": false,
    "ExecuteTime": {
     "end_time": "2023-11-28T22:34:59.055065Z",
     "start_time": "2023-11-28T22:34:59.036201Z"
    }
   },
   "id": "daab19d30f10e0ce"
  },
  {
   "cell_type": "code",
   "execution_count": 8,
   "outputs": [
    {
     "data": {
      "text/plain": "['1155900',\n '1028900',\n '1277700',\n '1089300',\n '49100',\n '794600',\n '1398100',\n '1066500',\n '399500',\n '1056400',\n '702500',\n '16000',\n '757500',\n '587000',\n '117800',\n '1396500',\n '86200',\n '1420600',\n '1288500',\n '1158200',\n '903600',\n '1330500',\n '1357000',\n '1160600',\n '1096800',\n '893400',\n '759300',\n '250100',\n '1162600',\n '1400500',\n '1062600',\n '970600',\n '661300',\n '1105300',\n '1081000',\n '1170600',\n '1416000',\n '80500',\n '966300',\n '1314100',\n '1337900',\n '1080900',\n '1115700',\n '1357400',\n '1406400',\n '1087100',\n '1300000',\n '1284300',\n '1353300',\n '872000',\n '1103000',\n '1383900',\n '1168500',\n '1125400',\n '950100',\n '1416200',\n '1170400',\n '1314300',\n '168800',\n '12100',\n '1166100',\n '1398500',\n '501300',\n '798200',\n '1178100',\n '1164200',\n '604700',\n '1211800',\n '1300500',\n '1388600',\n '1420500',\n '468500',\n '985000',\n '1009600',\n '1320000',\n '1317900',\n '7400',\n '1101300',\n '718300',\n '1202100',\n '153400',\n '387400',\n '1420700',\n '1288400',\n '1125100',\n '1121400',\n '1295900',\n '47400',\n '1226700',\n '1388000',\n '1042000',\n '1279600',\n '1365200',\n '682600',\n '1062500',\n '501200',\n '1210700',\n '1294600',\n '1310500',\n '116600',\n '1343400',\n '1282300',\n '840600',\n '1048300',\n '399200',\n '1162700',\n '1066200',\n '913700',\n '1103300',\n '1234500',\n '1304400',\n '128300',\n '114200',\n '1222000',\n '1076600',\n '1337800',\n '1319500',\n '1303000',\n '729300',\n '1274100',\n '146600',\n '847200',\n '1032700',\n '1155000',\n '1381000',\n '1374300',\n '1393000',\n '1052800',\n '1372200',\n '1037900',\n '1112000',\n '1012000',\n '390000',\n '1163000',\n '74000',\n '1395500',\n '1211600',\n '1041500',\n '202200',\n '1086300',\n '141800',\n '1248600',\n '1366700',\n '1110000',\n '1223300',\n '1393400',\n '1339600',\n '1313000',\n '1277800',\n '1385300',\n '1324900',\n '635300',\n '1266500',\n '95400',\n '945200',\n '251100',\n '633200',\n '1167300',\n '1393100',\n '1323600',\n '1110500',\n '1173500',\n '1281100',\n '659900',\n '1084200',\n '1079400',\n '13400',\n '1250200',\n '1129800',\n '1116400',\n '588700',\n '1346500',\n '1088000',\n '206000',\n '1226800',\n '752300',\n '1082100',\n '1189900',\n '824300',\n '1073700',\n '506100',\n '133600',\n '1132200',\n '1102300',\n '1270100',\n '818600',\n '1227500',\n '816200',\n '1195900',\n '1354100',\n '699100',\n '1371800',\n '1333600',\n '1339700',\n '1327700',\n '1090700',\n '1014400',\n '1069400',\n '810100',\n '920000',\n '1235700',\n '1109900']"
     },
     "execution_count": 8,
     "metadata": {},
     "output_type": "execute_result"
    }
   ],
   "source": [
    "label_list"
   ],
   "metadata": {
    "collapsed": false,
    "ExecuteTime": {
     "end_time": "2023-11-28T22:35:00.675033Z",
     "start_time": "2023-11-28T22:35:00.665978Z"
    }
   },
   "id": "c3d4f41281754469"
  },
  {
   "cell_type": "code",
   "execution_count": 17,
   "outputs": [],
   "source": [
    "df_test = df_test['TRACK_ID\\tPATH\\tTAGS'].str.split('\\t', expand=True)\n",
    "columns_to_merge = df_test.iloc[:, 2:10]\n",
    "columns_to_merge = columns_to_merge.astype(str)\n",
    "df_test['merged_column'] = columns_to_merge.apply(lambda x: ' '.join(x), axis=1)\n",
    "df_test['merged_column'] = df_test['merged_column'].str.replace('None', '')\n",
    "df_test['merged_column'] = df_test['merged_column'].str.replace(' ', '')\n",
    "df_test = df_test.drop(columns=[2, 3, 4, 5, 6, 7, 8])\n",
    "df_test.columns = ['TRACK_ID', 'PATH', 'merged_column']"
   ],
   "metadata": {
    "collapsed": false,
    "ExecuteTime": {
     "end_time": "2023-11-28T22:37:20.908771Z",
     "start_time": "2023-11-28T22:37:20.886064Z"
    }
   },
   "id": "f9f143ce8f4b4da"
  },
  {
   "cell_type": "code",
   "execution_count": 18,
   "outputs": [],
   "source": [
    "genre_list = []\n",
    "for label in label_list:\n",
    "    contains_string = df_test['PATH'].astype(str).str.contains(label)\n",
    "    genre_list.append(df_test.loc[contains_string, 'merged_column'].tolist())"
   ],
   "metadata": {
    "collapsed": false,
    "ExecuteTime": {
     "end_time": "2023-11-28T22:37:22.491750Z",
     "start_time": "2023-11-28T22:37:22.319129Z"
    }
   },
   "id": "a80817745acd2969"
  },
  {
   "cell_type": "code",
   "execution_count": 19,
   "outputs": [
    {
     "data": {
      "text/plain": "        TRACK_ID      PATH            merged_column\n0  track_0003524  A/A/3524     mood/theme---melodic\n1  track_0004882  A/A/4882  mood/theme---meditative\n2  track_0004883  A/A/4883  mood/theme---meditative\n3  track_0004884  A/A/4884  mood/theme---meditative\n4  track_0004889  A/A/4889  mood/theme---meditative",
      "text/html": "<div>\n<style scoped>\n    .dataframe tbody tr th:only-of-type {\n        vertical-align: middle;\n    }\n\n    .dataframe tbody tr th {\n        vertical-align: top;\n    }\n\n    .dataframe thead th {\n        text-align: right;\n    }\n</style>\n<table border=\"1\" class=\"dataframe\">\n  <thead>\n    <tr style=\"text-align: right;\">\n      <th></th>\n      <th>TRACK_ID</th>\n      <th>PATH</th>\n      <th>merged_column</th>\n    </tr>\n  </thead>\n  <tbody>\n    <tr>\n      <th>0</th>\n      <td>track_0003524</td>\n      <td>A/A/3524</td>\n      <td>mood/theme---melodic</td>\n    </tr>\n    <tr>\n      <th>1</th>\n      <td>track_0004882</td>\n      <td>A/A/4882</td>\n      <td>mood/theme---meditative</td>\n    </tr>\n    <tr>\n      <th>2</th>\n      <td>track_0004883</td>\n      <td>A/A/4883</td>\n      <td>mood/theme---meditative</td>\n    </tr>\n    <tr>\n      <th>3</th>\n      <td>track_0004884</td>\n      <td>A/A/4884</td>\n      <td>mood/theme---meditative</td>\n    </tr>\n    <tr>\n      <th>4</th>\n      <td>track_0004889</td>\n      <td>A/A/4889</td>\n      <td>mood/theme---meditative</td>\n    </tr>\n  </tbody>\n</table>\n</div>"
     },
     "execution_count": 19,
     "metadata": {},
     "output_type": "execute_result"
    }
   ],
   "source": [
    "df_test.head()"
   ],
   "metadata": {
    "collapsed": false,
    "ExecuteTime": {
     "end_time": "2023-11-28T22:37:35.348050Z",
     "start_time": "2023-11-28T22:37:35.337514Z"
    }
   },
   "id": "5d58622fd96b6da4"
  },
  {
   "cell_type": "code",
   "execution_count": 21,
   "outputs": [
    {
     "name": "stdout",
     "output_type": "stream",
     "text": [
      "1028900\n",
      "1277700\n",
      "49100\n",
      "794600\n",
      "1398100\n",
      "399500\n",
      "16000\n",
      "1158200\n",
      "1357000\n",
      "1162600\n",
      "970600\n",
      "661300\n",
      "1416000\n",
      "1353300\n",
      "1168500\n",
      "1125400\n",
      "1166100\n",
      "1398500\n",
      "798200\n",
      "1300500\n",
      "1210700\n",
      "1343400\n",
      "1162700\n",
      "1066200\n",
      "1076600\n",
      "1337800\n",
      "146600\n",
      "1155000\n",
      "1395500\n",
      "1211600\n",
      "202200\n",
      "1086300\n",
      "1223300\n",
      "1339600\n",
      "1313000\n",
      "1277800\n",
      "635300\n",
      "1266500\n",
      "945200\n",
      "13400\n",
      "1116400\n",
      "133600\n",
      "1102300\n",
      "818600\n",
      "1227500\n",
      "1090700\n",
      "810100\n"
     ]
    }
   ],
   "source": [
    "for label in label_list:\n",
    "    for i in range(len(df_test)):\n",
    "        if label in df_test['PATH'][i]:\n",
    "            print(label)"
   ],
   "metadata": {
    "collapsed": false,
    "ExecuteTime": {
     "end_time": "2023-11-28T22:39:14.780835Z",
     "start_time": "2023-11-28T22:39:13.172096Z"
    }
   },
   "id": "b283ce36b4594151"
  },
  {
   "cell_type": "code",
   "execution_count": 22,
   "outputs": [
    {
     "data": {
      "text/plain": "4231"
     },
     "execution_count": 22,
     "metadata": {},
     "output_type": "execute_result"
    }
   ],
   "source": [
    "len(y_true)"
   ],
   "metadata": {
    "collapsed": false,
    "ExecuteTime": {
     "end_time": "2023-11-28T22:39:29.216042Z",
     "start_time": "2023-11-28T22:39:29.201847Z"
    }
   },
   "id": "b677ad1bd4c9c60e"
  },
  {
   "cell_type": "code",
   "execution_count": 23,
   "outputs": [
    {
     "data": {
      "text/plain": "4231"
     },
     "execution_count": 23,
     "metadata": {},
     "output_type": "execute_result"
    }
   ],
   "source": [
    "len(df_test)"
   ],
   "metadata": {
    "collapsed": false,
    "ExecuteTime": {
     "end_time": "2023-11-28T22:39:34.844076Z",
     "start_time": "2023-11-28T22:39:34.827390Z"
    }
   },
   "id": "e9dc022cf2f1f74"
  },
  {
   "cell_type": "code",
   "execution_count": 27,
   "outputs": [
    {
     "data": {
      "text/plain": "          TRACK_ID       PATH            merged_column\n206  track_0049100  B/D/49100  mood/theme---meditative",
      "text/html": "<div>\n<style scoped>\n    .dataframe tbody tr th:only-of-type {\n        vertical-align: middle;\n    }\n\n    .dataframe tbody tr th {\n        vertical-align: top;\n    }\n\n    .dataframe thead th {\n        text-align: right;\n    }\n</style>\n<table border=\"1\" class=\"dataframe\">\n  <thead>\n    <tr style=\"text-align: right;\">\n      <th></th>\n      <th>TRACK_ID</th>\n      <th>PATH</th>\n      <th>merged_column</th>\n    </tr>\n  </thead>\n  <tbody>\n    <tr>\n      <th>206</th>\n      <td>track_0049100</td>\n      <td>B/D/49100</td>\n      <td>mood/theme---meditative</td>\n    </tr>\n  </tbody>\n</table>\n</div>"
     },
     "execution_count": 27,
     "metadata": {},
     "output_type": "execute_result"
    }
   ],
   "source": [
    "df_test[df_test['TRACK_ID'] == 'track_0049100']"
   ],
   "metadata": {
    "collapsed": false,
    "ExecuteTime": {
     "end_time": "2023-11-28T22:52:44.423817Z",
     "start_time": "2023-11-28T22:52:44.415032Z"
    }
   },
   "id": "2ae18908a92f49c1"
  },
  {
   "cell_type": "code",
   "execution_count": 30,
   "outputs": [
    {
     "data": {
      "text/plain": "array([0, 0, 0, 0, 0, 0, 0, 0, 0, 0, 0, 0, 0, 0, 0, 0, 0, 0, 0, 0, 0, 0,\n       0, 0, 0, 0, 0, 0, 0, 0, 0, 0, 1, 0, 0, 0, 0, 0, 0, 0, 0, 0, 0, 0,\n       0, 0, 0, 0, 0, 0, 0, 0, 0, 0, 0, 0])"
     },
     "execution_count": 30,
     "metadata": {},
     "output_type": "execute_result"
    }
   ],
   "source": [
    "y_true[206]"
   ],
   "metadata": {
    "collapsed": false,
    "ExecuteTime": {
     "end_time": "2023-11-28T22:53:37.622176Z",
     "start_time": "2023-11-28T22:53:37.609653Z"
    }
   },
   "id": "54872604b103196c"
  },
  {
   "cell_type": "code",
   "execution_count": 32,
   "outputs": [],
   "source": [
    "from sklearn.metrics import accuracy_score"
   ],
   "metadata": {
    "collapsed": false,
    "ExecuteTime": {
     "end_time": "2023-11-28T22:56:18.948457Z",
     "start_time": "2023-11-28T22:56:18.743190Z"
    }
   },
   "id": "c568a8ef12fbd756"
  },
  {
   "cell_type": "code",
   "execution_count": 33,
   "outputs": [],
   "source": [
    "y_pred = np.load('../../media-eval-2020-main/predictions/jamendo_only/standard_sampling/test/bce_predictions.npy')"
   ],
   "metadata": {
    "collapsed": false,
    "ExecuteTime": {
     "end_time": "2023-11-28T22:58:30.217526Z",
     "start_time": "2023-11-28T22:58:30.206368Z"
    }
   },
   "id": "d881437497b3fe5a"
  },
  {
   "cell_type": "code",
   "execution_count": 36,
   "outputs": [],
   "source": [
    "def max_one_per_row(matrix):\n",
    "    result = np.zeros_like(matrix)\n",
    "    for i, row in enumerate(matrix):\n",
    "        max_index = np.argmax(row)\n",
    "        result[i, max_index] = 1\n",
    "    return result\n",
    "\n",
    "y_pred = max_one_per_row(y_pred)"
   ],
   "metadata": {
    "collapsed": false,
    "ExecuteTime": {
     "end_time": "2023-11-28T23:00:06.856737Z",
     "start_time": "2023-11-28T23:00:06.847610Z"
    }
   },
   "id": "aef3fbea2f37e28f"
  },
  {
   "cell_type": "code",
   "execution_count": 38,
   "outputs": [
    {
     "data": {
      "text/plain": "0.06452375324982274"
     },
     "execution_count": 38,
     "metadata": {},
     "output_type": "execute_result"
    }
   ],
   "source": [
    "accuracy_score(y_true, y_pred)"
   ],
   "metadata": {
    "collapsed": false,
    "ExecuteTime": {
     "end_time": "2023-11-28T23:00:18.683580Z",
     "start_time": "2023-11-28T23:00:18.651115Z"
    }
   },
   "id": "daf3499df6a27b2b"
  },
  {
   "cell_type": "code",
   "execution_count": null,
   "outputs": [],
   "source": [],
   "metadata": {
    "collapsed": false
   },
   "id": "424b3d0bff2f81ad"
  }
 ],
 "metadata": {
  "kernelspec": {
   "display_name": "Python 3",
   "language": "python",
   "name": "python3"
  },
  "language_info": {
   "codemirror_mode": {
    "name": "ipython",
    "version": 2
   },
   "file_extension": ".py",
   "mimetype": "text/x-python",
   "name": "python",
   "nbconvert_exporter": "python",
   "pygments_lexer": "ipython2",
   "version": "2.7.6"
  }
 },
 "nbformat": 4,
 "nbformat_minor": 5
}
